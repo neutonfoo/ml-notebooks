{
 "cells": [
  {
   "cell_type": "code",
   "execution_count": 1,
   "id": "386d35b8-6d7a-4333-94fa-aa0e2963f290",
   "metadata": {},
   "outputs": [],
   "source": [
    "import tensorflow as tf"
   ]
  },
  {
   "cell_type": "markdown",
   "id": "bb374279-b55c-4e9b-950d-07b95754c6ab",
   "metadata": {},
   "source": [
    "# Tensorfllow"
   ]
  },
  {
   "cell_type": "code",
   "execution_count": 2,
   "id": "9f2023c0-fa57-4824-9f96-cd3d922cc520",
   "metadata": {},
   "outputs": [
    {
     "data": {
      "text/plain": [
       "<tf.Tensor: shape=(2, 1), dtype=float32, numpy=\n",
       "array([[1.],\n",
       "       [1.]], dtype=float32)>"
      ]
     },
     "execution_count": 2,
     "metadata": {},
     "output_type": "execute_result"
    }
   ],
   "source": [
    "tf.ones(shape = (2, 1))"
   ]
  },
  {
   "cell_type": "code",
   "execution_count": 4,
   "id": "aee100bf-d2bc-4302-ba4b-3519fdd30ff4",
   "metadata": {},
   "outputs": [
    {
     "data": {
      "text/plain": [
       "<tf.Tensor: shape=(3, 1), dtype=float32, numpy=\n",
       "array([[-0.16457614],\n",
       "       [-1.0653929 ],\n",
       "       [ 0.21694137]], dtype=float32)>"
      ]
     },
     "execution_count": 4,
     "metadata": {},
     "output_type": "execute_result"
    }
   ],
   "source": [
    "x = tf.random.normal(shape = (3, 1), mean = 0., stddev = 1.)\n",
    "x"
   ]
  },
  {
   "cell_type": "code",
   "execution_count": 5,
   "id": "7276784f-c3ea-4a0b-9f91-64fc6a369b05",
   "metadata": {},
   "outputs": [
    {
     "data": {
      "text/plain": [
       "<tf.Tensor: shape=(3, 1), dtype=float32, numpy=\n",
       "array([[0.11125183],\n",
       "       [0.23262215],\n",
       "       [0.76196504]], dtype=float32)>"
      ]
     },
     "execution_count": 5,
     "metadata": {},
     "output_type": "execute_result"
    }
   ],
   "source": [
    "x = tf.random.uniform(shape = (3, 1), minval = 0., maxval = 1.)\n",
    "x"
   ]
  },
  {
   "cell_type": "code",
   "execution_count": 8,
   "id": "9430a0c2-fa40-493a-81f1-c9207a0508a3",
   "metadata": {},
   "outputs": [],
   "source": [
    "x = tf.ones(shape=(2, 2))\n",
    "\n",
    "# Tensors are constants, this will error\n",
    "# x[0, 0] = 0"
   ]
  },
  {
   "cell_type": "code",
   "execution_count": 10,
   "id": "cbf03cee-f596-4ea2-b148-e6bc8cf93a56",
   "metadata": {},
   "outputs": [
    {
     "data": {
      "text/plain": [
       "<tf.Variable 'Variable:0' shape=(3, 1) dtype=float32, numpy=\n",
       "array([[-1.0970312 ],\n",
       "       [-0.28910193],\n",
       "       [-0.35856408]], dtype=float32)>"
      ]
     },
     "execution_count": 10,
     "metadata": {},
     "output_type": "execute_result"
    }
   ],
   "source": [
    "v = tf.Variable(initial_value=tf.random.normal(shape=(3, 1)))\n",
    "v"
   ]
  },
  {
   "cell_type": "code",
   "execution_count": 12,
   "id": "d7613a80-1d89-4ed9-a48d-e9d203b0bd2d",
   "metadata": {},
   "outputs": [
    {
     "data": {
      "text/plain": [
       "<tf.Variable 'UnreadVariable' shape=(3, 1) dtype=float32, numpy=\n",
       "array([[1.],\n",
       "       [1.],\n",
       "       [1.]], dtype=float32)>"
      ]
     },
     "execution_count": 12,
     "metadata": {},
     "output_type": "execute_result"
    }
   ],
   "source": [
    "v.assign(tf.ones((3,1)))"
   ]
  },
  {
   "cell_type": "markdown",
   "id": "d17b8ab0-5fb5-48a3-b047-2f9ad5d8c834",
   "metadata": {},
   "source": [
    "## Dense layer in TF"
   ]
  },
  {
   "cell_type": "code",
   "execution_count": 13,
   "id": "5c1e4f2c-94c1-4c7d-aafb-39d72fe7e4e1",
   "metadata": {},
   "outputs": [],
   "source": [
    "def dense(inputs, W, b):\n",
    "    return tf.nn.relu(tf.matmul(inputs, W) + b)"
   ]
  },
  {
   "cell_type": "markdown",
   "id": "bcfcdbed-0177-48d9-bf4e-b59d7899aeb0",
   "metadata": {},
   "source": [
    "## GradientTape"
   ]
  },
  {
   "cell_type": "code",
   "execution_count": 54,
   "id": "260d4ca5-e291-4cf2-9356-dbba12a51c54",
   "metadata": {},
   "outputs": [
    {
     "data": {
      "text/plain": [
       "np.float32(5.0)"
      ]
     },
     "execution_count": 54,
     "metadata": {},
     "output_type": "execute_result"
    }
   ],
   "source": [
    "input_var = tf.Variable(2.5)\n",
    "with tf.GradientTape() as tape:\n",
    "    result = input_var ** 2\n",
    "gradient = tape.gradient(result, input_var)\n",
    "\n",
    "# y = x ** 2\n",
    "# y' = 2x\n",
    "# y' = 2 * 2.5\n",
    "# y' = 5.0\n",
    "\n",
    "gradient.numpy()"
   ]
  },
  {
   "cell_type": "code",
   "execution_count": 27,
   "id": "4ad21511-03ae-4e79-b2c3-f85fdca5aaf8",
   "metadata": {},
   "outputs": [
    {
     "data": {
      "text/plain": [
       "<tf.Tensor: shape=(), dtype=float32, numpy=6.0>"
      ]
     },
     "execution_count": 27,
     "metadata": {},
     "output_type": "execute_result"
    }
   ],
   "source": [
    "# With constants, need tape.watch()\n",
    "input_const = tf.constant(3.0)\n",
    "with tf.GradientTape() as tape:\n",
    "    tape.watch(input_const)\n",
    "    result = tf.square(input_const)\n",
    "gradient = tape.gradient(result, input_const)\n",
    "gradient"
   ]
  },
  {
   "cell_type": "code",
   "execution_count": null,
   "id": "d6ee971b-1dbe-4fa2-a1a6-ff89bd2edc30",
   "metadata": {},
   "outputs": [],
   "source": []
  }
 ],
 "metadata": {
  "kernelspec": {
   "display_name": "Python 3 (ipykernel)",
   "language": "python",
   "name": "python3"
  },
  "language_info": {
   "codemirror_mode": {
    "name": "ipython",
    "version": 3
   },
   "file_extension": ".py",
   "mimetype": "text/x-python",
   "name": "python",
   "nbconvert_exporter": "python",
   "pygments_lexer": "ipython3",
   "version": "3.12.11"
  }
 },
 "nbformat": 4,
 "nbformat_minor": 5
}
