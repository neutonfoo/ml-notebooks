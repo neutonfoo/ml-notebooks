{
 "cells": [
  {
   "cell_type": "markdown",
   "id": "df918fc8-f045-4927-a5d9-95f04e9a43aa",
   "metadata": {},
   "source": [
    "# IMDB Sentiment Analysis (pg. 134)"
   ]
  },
  {
   "cell_type": "code",
   "execution_count": 1,
   "id": "8093ddd2-6835-4f40-8042-dee44fe0e484",
   "metadata": {},
   "outputs": [],
   "source": [
    "import keras\n",
    "import matplotlib.pyplot as plt\n",
    "import numpy as np\n",
    "import pandas as pd\n",
    "\n",
    "# keras.utils.set_random_seed(42)"
   ]
  },
  {
   "cell_type": "code",
   "execution_count": 2,
   "id": "021bbf65-4f02-477c-8e1f-96eb64d782c5",
   "metadata": {},
   "outputs": [],
   "source": [
    "# Keep the top 10,000 most frequently occuring words\n",
    "(X_train_full, y_train_full), (X_test, y_test) = keras.datasets.imdb.load_data(\n",
    "    num_words=10000\n",
    ")"
   ]
  },
  {
   "cell_type": "code",
   "execution_count": 3,
   "id": "95db3554-c5d7-4d87-a031-9afe42cb37bf",
   "metadata": {},
   "outputs": [
    {
     "data": {
      "text/plain": [
       "(25000,)"
      ]
     },
     "execution_count": 3,
     "metadata": {},
     "output_type": "execute_result"
    }
   ],
   "source": [
    "# 25,000 reviews as list of word indices\n",
    "X_train_full.shape"
   ]
  },
  {
   "cell_type": "code",
   "execution_count": 4,
   "id": "63ad488f-865c-4f59-aa6a-c3eed858167b",
   "metadata": {},
   "outputs": [],
   "source": [
    "# Map of word -> index\n",
    "word_index = keras.datasets.imdb.get_word_index()"
   ]
  },
  {
   "cell_type": "code",
   "execution_count": 5,
   "id": "240c72d5-ae78-4080-9623-1090dba360f4",
   "metadata": {},
   "outputs": [],
   "source": [
    "# Changes it so index -> word\n",
    "reverse_word_index = dict([(value, key) for (key, value) in word_index.items()])"
   ]
  },
  {
   "cell_type": "code",
   "execution_count": 6,
   "id": "858f8980-259d-4229-96e8-8dbf36fb001d",
   "metadata": {},
   "outputs": [],
   "source": [
    "def decode_review(review):\n",
    "    # Words are offset by 3 because 0, 1, 2 and \"padding\", \"start of sequence\" and \"unknown\"\n",
    "    return \" \".join([reverse_word_index.get(i - 3, \"?\") for i in review])"
   ]
  },
  {
   "cell_type": "code",
   "execution_count": 7,
   "id": "9744e9bc-d625-4897-91db-ef7707028875",
   "metadata": {},
   "outputs": [
    {
     "data": {
      "text/plain": [
       "\"? this film was just brilliant casting location scenery story direction everyone's really suited the part they played and you could just imagine being there robert ? is an amazing actor and now the same being director ? father came from the same scottish island as myself so i loved the fact there was a real connection with this film the witty remarks throughout the film were great it was just brilliant so much that i bought the film as soon as it was released for ? and would recommend it to everyone to watch and the fly fishing was amazing really cried at the end it was so sad and you know what they say if you cry at a film it must have been good and this definitely was also ? to the two little boy's that played the ? of norman and paul they were just brilliant children are often left out of the ? list i think because the stars that play them all grown up are such a big profile for the whole film but these children are amazing and should be praised for what they have done don't you think the whole story was so lovely because it was true and was someone's life after all that was shared with us all\""
      ]
     },
     "execution_count": 7,
     "metadata": {},
     "output_type": "execute_result"
    }
   ],
   "source": [
    "decode_review(X_train_full[0])"
   ]
  },
  {
   "cell_type": "code",
   "execution_count": 8,
   "id": "470f3f62-eda8-414c-9fb2-770361ff0bd0",
   "metadata": {},
   "outputs": [
    {
     "data": {
      "text/plain": [
       "np.int64(1)"
      ]
     },
     "execution_count": 8,
     "metadata": {},
     "output_type": "execute_result"
    }
   ],
   "source": [
    "# 1 means positive\n",
    "y_train_full[0]"
   ]
  },
  {
   "cell_type": "code",
   "execution_count": 9,
   "id": "3e54d6e7-f720-47ad-ae97-338a1c69a810",
   "metadata": {},
   "outputs": [],
   "source": [
    "# In order to feed this data into a NN, need to vectorize by multi-hot encode\n",
    "def multi_hot_encode(sequences, num_classes):\n",
    "    # Creates ndarray of length = number of sequences, each with num_classes 0s\n",
    "    # Ex:\n",
    "    # [[0, 0, 0, ... 0],\n",
    "    # [0, 0, 0, ... 0]]\n",
    "    results = np.zeros((len(sequences), num_classes))\n",
    "    for i, sequence in enumerate(sequences):\n",
    "        # Fill the words with 1.0\n",
    "        results[i][sequence] = 1.0\n",
    "    return results"
   ]
  },
  {
   "cell_type": "code",
   "execution_count": 10,
   "id": "68b689e5-bc0e-4453-944d-71991eb844c4",
   "metadata": {},
   "outputs": [],
   "source": [
    "X_train_full_encoded = multi_hot_encode(X_train_full, num_classes=10000)\n",
    "X_test_encoded = multi_hot_encode(X_test, num_classes=10000)"
   ]
  },
  {
   "cell_type": "code",
   "execution_count": 11,
   "id": "afedd5a2-d0d5-4c12-8b8e-60ba300d0367",
   "metadata": {},
   "outputs": [
    {
     "data": {
      "text/plain": [
       "array([0., 1., 1., ..., 0., 0., 0.])"
      ]
     },
     "execution_count": 11,
     "metadata": {},
     "output_type": "execute_result"
    }
   ],
   "source": [
    "X_train_full_encoded[0]"
   ]
  },
  {
   "cell_type": "code",
   "execution_count": 12,
   "id": "bf81dc67-8e16-43e2-af1c-2fcb84eae3c0",
   "metadata": {},
   "outputs": [],
   "source": [
    "y_train_full = y_train_full.astype(\"float32\")\n",
    "y_test = y_test.astype(\"float32\")"
   ]
  },
  {
   "cell_type": "code",
   "execution_count": 13,
   "id": "23a8e786-6ea1-4eee-9d75-39f5bce887fa",
   "metadata": {},
   "outputs": [],
   "source": [
    "# Input can be inferred during training\n",
    "model = keras.Sequential(\n",
    "    [\n",
    "        keras.layers.Dense(16, activation=\"relu\"),\n",
    "        keras.layers.Dense(16, activation=\"relu\"),\n",
    "        keras.layers.Dense(1, activation=\"sigmoid\"),\n",
    "    ]\n",
    ")"
   ]
  },
  {
   "cell_type": "code",
   "execution_count": 14,
   "id": "aa4fcb36-06e6-4eec-a47c-8ba7b8a231eb",
   "metadata": {},
   "outputs": [],
   "source": [
    "model.compile(optimizer=\"adam\", loss=\"binary_crossentropy\", metrics=[\"accuracy\"])"
   ]
  },
  {
   "cell_type": "code",
   "execution_count": 15,
   "id": "5d17042f-184d-46ec-8850-5e62960155db",
   "metadata": {},
   "outputs": [],
   "source": [
    "# Create train and validation sets\n",
    "X_valid = X_train_full_encoded[:10000]\n",
    "y_valid = y_train_full[:10000]\n",
    "\n",
    "X_train = X_train_full_encoded[10000:]\n",
    "y_train = y_train_full[10000:]"
   ]
  },
  {
   "cell_type": "code",
   "execution_count": 16,
   "id": "d935daee-9d4e-4c95-8962-035036bcac83",
   "metadata": {
    "scrolled": true
   },
   "outputs": [
    {
     "name": "stdout",
     "output_type": "stream",
     "text": [
      "Epoch 1/20\n",
      "\u001b[1m30/30\u001b[0m \u001b[32m━━━━━━━━━━━━━━━━━━━━\u001b[0m\u001b[37m\u001b[0m \u001b[1m1s\u001b[0m 30ms/step - accuracy: 0.6859 - loss: 0.6294 - val_accuracy: 0.8583 - val_loss: 0.3885\n",
      "Epoch 2/20\n",
      "\u001b[1m30/30\u001b[0m \u001b[32m━━━━━━━━━━━━━━━━━━━━\u001b[0m\u001b[37m\u001b[0m \u001b[1m0s\u001b[0m 7ms/step - accuracy: 0.8913 - loss: 0.3177 - val_accuracy: 0.8826 - val_loss: 0.2953\n",
      "Epoch 3/20\n",
      "\u001b[1m30/30\u001b[0m \u001b[32m━━━━━━━━━━━━━━━━━━━━\u001b[0m\u001b[37m\u001b[0m \u001b[1m0s\u001b[0m 9ms/step - accuracy: 0.9375 - loss: 0.1982 - val_accuracy: 0.8887 - val_loss: 0.2764\n",
      "Epoch 4/20\n",
      "\u001b[1m30/30\u001b[0m \u001b[32m━━━━━━━━━━━━━━━━━━━━\u001b[0m\u001b[37m\u001b[0m \u001b[1m0s\u001b[0m 7ms/step - accuracy: 0.9599 - loss: 0.1448 - val_accuracy: 0.8875 - val_loss: 0.2811\n",
      "Epoch 5/20\n",
      "\u001b[1m30/30\u001b[0m \u001b[32m━━━━━━━━━━━━━━━━━━━━\u001b[0m\u001b[37m\u001b[0m \u001b[1m0s\u001b[0m 8ms/step - accuracy: 0.9717 - loss: 0.1133 - val_accuracy: 0.8840 - val_loss: 0.2962\n",
      "Epoch 6/20\n",
      "\u001b[1m30/30\u001b[0m \u001b[32m━━━━━━━━━━━━━━━━━━━━\u001b[0m\u001b[37m\u001b[0m \u001b[1m0s\u001b[0m 7ms/step - accuracy: 0.9813 - loss: 0.0816 - val_accuracy: 0.8829 - val_loss: 0.3185\n",
      "Epoch 7/20\n",
      "\u001b[1m30/30\u001b[0m \u001b[32m━━━━━━━━━━━━━━━━━━━━\u001b[0m\u001b[37m\u001b[0m \u001b[1m0s\u001b[0m 8ms/step - accuracy: 0.9881 - loss: 0.0640 - val_accuracy: 0.8799 - val_loss: 0.3448\n",
      "Epoch 8/20\n",
      "\u001b[1m30/30\u001b[0m \u001b[32m━━━━━━━━━━━━━━━━━━━━\u001b[0m\u001b[37m\u001b[0m \u001b[1m0s\u001b[0m 7ms/step - accuracy: 0.9939 - loss: 0.0447 - val_accuracy: 0.8788 - val_loss: 0.3722\n",
      "Epoch 9/20\n",
      "\u001b[1m30/30\u001b[0m \u001b[32m━━━━━━━━━━━━━━━━━━━━\u001b[0m\u001b[37m\u001b[0m \u001b[1m0s\u001b[0m 7ms/step - accuracy: 0.9962 - loss: 0.0332 - val_accuracy: 0.8760 - val_loss: 0.4012\n",
      "Epoch 10/20\n",
      "\u001b[1m30/30\u001b[0m \u001b[32m━━━━━━━━━━━━━━━━━━━━\u001b[0m\u001b[37m\u001b[0m \u001b[1m0s\u001b[0m 6ms/step - accuracy: 0.9979 - loss: 0.0253 - val_accuracy: 0.8747 - val_loss: 0.4313\n",
      "Epoch 11/20\n",
      "\u001b[1m30/30\u001b[0m \u001b[32m━━━━━━━━━━━━━━━━━━━━\u001b[0m\u001b[37m\u001b[0m \u001b[1m0s\u001b[0m 7ms/step - accuracy: 0.9982 - loss: 0.0195 - val_accuracy: 0.8751 - val_loss: 0.4585\n",
      "Epoch 12/20\n",
      "\u001b[1m30/30\u001b[0m \u001b[32m━━━━━━━━━━━━━━━━━━━━\u001b[0m\u001b[37m\u001b[0m \u001b[1m0s\u001b[0m 7ms/step - accuracy: 0.9997 - loss: 0.0142 - val_accuracy: 0.8725 - val_loss: 0.4836\n",
      "Epoch 13/20\n",
      "\u001b[1m30/30\u001b[0m \u001b[32m━━━━━━━━━━━━━━━━━━━━\u001b[0m\u001b[37m\u001b[0m \u001b[1m0s\u001b[0m 7ms/step - accuracy: 0.9998 - loss: 0.0108 - val_accuracy: 0.8696 - val_loss: 0.5099\n",
      "Epoch 14/20\n",
      "\u001b[1m30/30\u001b[0m \u001b[32m━━━━━━━━━━━━━━━━━━━━\u001b[0m\u001b[37m\u001b[0m \u001b[1m0s\u001b[0m 8ms/step - accuracy: 0.9997 - loss: 0.0088 - val_accuracy: 0.8712 - val_loss: 0.5281\n",
      "Epoch 15/20\n",
      "\u001b[1m30/30\u001b[0m \u001b[32m━━━━━━━━━━━━━━━━━━━━\u001b[0m\u001b[37m\u001b[0m \u001b[1m0s\u001b[0m 6ms/step - accuracy: 0.9999 - loss: 0.0067 - val_accuracy: 0.8704 - val_loss: 0.5487\n",
      "Epoch 16/20\n",
      "\u001b[1m30/30\u001b[0m \u001b[32m━━━━━━━━━━━━━━━━━━━━\u001b[0m\u001b[37m\u001b[0m \u001b[1m0s\u001b[0m 6ms/step - accuracy: 1.0000 - loss: 0.0056 - val_accuracy: 0.8699 - val_loss: 0.5658\n",
      "Epoch 17/20\n",
      "\u001b[1m30/30\u001b[0m \u001b[32m━━━━━━━━━━━━━━━━━━━━\u001b[0m\u001b[37m\u001b[0m \u001b[1m0s\u001b[0m 7ms/step - accuracy: 0.9999 - loss: 0.0046 - val_accuracy: 0.8707 - val_loss: 0.5811\n",
      "Epoch 18/20\n",
      "\u001b[1m30/30\u001b[0m \u001b[32m━━━━━━━━━━━━━━━━━━━━\u001b[0m\u001b[37m\u001b[0m \u001b[1m0s\u001b[0m 6ms/step - accuracy: 1.0000 - loss: 0.0039 - val_accuracy: 0.8690 - val_loss: 0.5987\n",
      "Epoch 19/20\n",
      "\u001b[1m30/30\u001b[0m \u001b[32m━━━━━━━━━━━━━━━━━━━━\u001b[0m\u001b[37m\u001b[0m \u001b[1m0s\u001b[0m 5ms/step - accuracy: 0.9999 - loss: 0.0033 - val_accuracy: 0.8690 - val_loss: 0.6121\n",
      "Epoch 20/20\n",
      "\u001b[1m30/30\u001b[0m \u001b[32m━━━━━━━━━━━━━━━━━━━━\u001b[0m\u001b[37m\u001b[0m \u001b[1m0s\u001b[0m 5ms/step - accuracy: 1.0000 - loss: 0.0029 - val_accuracy: 0.8689 - val_loss: 0.6261\n"
     ]
    }
   ],
   "source": [
    "history = model.fit(\n",
    "    X_train,\n",
    "    y_train,\n",
    "    epochs=20,\n",
    "    batch_size=512,\n",
    "    # Instead of manually splitting validation set, can use\n",
    "    # validation_split = 0.2\n",
    "    validation_data=(X_valid, y_valid),\n",
    ")"
   ]
  },
  {
   "cell_type": "code",
   "execution_count": 17,
   "id": "c496e734-8bd6-4b4b-a5a8-4212eb6c941f",
   "metadata": {
    "scrolled": true
   },
   "outputs": [
    {
     "data": {
      "text/html": [
       "<div>\n",
       "<style scoped>\n",
       "    .dataframe tbody tr th:only-of-type {\n",
       "        vertical-align: middle;\n",
       "    }\n",
       "\n",
       "    .dataframe tbody tr th {\n",
       "        vertical-align: top;\n",
       "    }\n",
       "\n",
       "    .dataframe thead th {\n",
       "        text-align: right;\n",
       "    }\n",
       "</style>\n",
       "<table border=\"1\" class=\"dataframe\">\n",
       "  <thead>\n",
       "    <tr style=\"text-align: right;\">\n",
       "      <th></th>\n",
       "      <th>accuracy</th>\n",
       "      <th>loss</th>\n",
       "      <th>val_accuracy</th>\n",
       "      <th>val_loss</th>\n",
       "    </tr>\n",
       "  </thead>\n",
       "  <tbody>\n",
       "    <tr>\n",
       "      <th>1</th>\n",
       "      <td>0.770667</td>\n",
       "      <td>0.552628</td>\n",
       "      <td>0.8583</td>\n",
       "      <td>0.388505</td>\n",
       "    </tr>\n",
       "    <tr>\n",
       "      <th>2</th>\n",
       "      <td>0.902000</td>\n",
       "      <td>0.288201</td>\n",
       "      <td>0.8826</td>\n",
       "      <td>0.295252</td>\n",
       "    </tr>\n",
       "    <tr>\n",
       "      <th>3</th>\n",
       "      <td>0.935133</td>\n",
       "      <td>0.196166</td>\n",
       "      <td>0.8887</td>\n",
       "      <td>0.276387</td>\n",
       "    </tr>\n",
       "    <tr>\n",
       "      <th>4</th>\n",
       "      <td>0.956933</td>\n",
       "      <td>0.144582</td>\n",
       "      <td>0.8875</td>\n",
       "      <td>0.281102</td>\n",
       "    </tr>\n",
       "    <tr>\n",
       "      <th>5</th>\n",
       "      <td>0.970133</td>\n",
       "      <td>0.110004</td>\n",
       "      <td>0.8840</td>\n",
       "      <td>0.296182</td>\n",
       "    </tr>\n",
       "    <tr>\n",
       "      <th>6</th>\n",
       "      <td>0.979267</td>\n",
       "      <td>0.083338</td>\n",
       "      <td>0.8829</td>\n",
       "      <td>0.318492</td>\n",
       "    </tr>\n",
       "    <tr>\n",
       "      <th>7</th>\n",
       "      <td>0.987933</td>\n",
       "      <td>0.062994</td>\n",
       "      <td>0.8799</td>\n",
       "      <td>0.344765</td>\n",
       "    </tr>\n",
       "    <tr>\n",
       "      <th>8</th>\n",
       "      <td>0.992400</td>\n",
       "      <td>0.046843</td>\n",
       "      <td>0.8788</td>\n",
       "      <td>0.372249</td>\n",
       "    </tr>\n",
       "    <tr>\n",
       "      <th>9</th>\n",
       "      <td>0.995667</td>\n",
       "      <td>0.034249</td>\n",
       "      <td>0.8760</td>\n",
       "      <td>0.401166</td>\n",
       "    </tr>\n",
       "    <tr>\n",
       "      <th>10</th>\n",
       "      <td>0.997667</td>\n",
       "      <td>0.025642</td>\n",
       "      <td>0.8747</td>\n",
       "      <td>0.431279</td>\n",
       "    </tr>\n",
       "    <tr>\n",
       "      <th>11</th>\n",
       "      <td>0.998933</td>\n",
       "      <td>0.018776</td>\n",
       "      <td>0.8751</td>\n",
       "      <td>0.458496</td>\n",
       "    </tr>\n",
       "    <tr>\n",
       "      <th>12</th>\n",
       "      <td>0.999667</td>\n",
       "      <td>0.014032</td>\n",
       "      <td>0.8725</td>\n",
       "      <td>0.483600</td>\n",
       "    </tr>\n",
       "    <tr>\n",
       "      <th>13</th>\n",
       "      <td>0.999800</td>\n",
       "      <td>0.010700</td>\n",
       "      <td>0.8696</td>\n",
       "      <td>0.509872</td>\n",
       "    </tr>\n",
       "    <tr>\n",
       "      <th>14</th>\n",
       "      <td>0.999800</td>\n",
       "      <td>0.008487</td>\n",
       "      <td>0.8712</td>\n",
       "      <td>0.528112</td>\n",
       "    </tr>\n",
       "    <tr>\n",
       "      <th>15</th>\n",
       "      <td>0.999867</td>\n",
       "      <td>0.006762</td>\n",
       "      <td>0.8704</td>\n",
       "      <td>0.548695</td>\n",
       "    </tr>\n",
       "    <tr>\n",
       "      <th>16</th>\n",
       "      <td>0.999933</td>\n",
       "      <td>0.005600</td>\n",
       "      <td>0.8699</td>\n",
       "      <td>0.565807</td>\n",
       "    </tr>\n",
       "    <tr>\n",
       "      <th>17</th>\n",
       "      <td>0.999933</td>\n",
       "      <td>0.004668</td>\n",
       "      <td>0.8707</td>\n",
       "      <td>0.581141</td>\n",
       "    </tr>\n",
       "    <tr>\n",
       "      <th>18</th>\n",
       "      <td>0.999933</td>\n",
       "      <td>0.003984</td>\n",
       "      <td>0.8690</td>\n",
       "      <td>0.598684</td>\n",
       "    </tr>\n",
       "    <tr>\n",
       "      <th>19</th>\n",
       "      <td>0.999933</td>\n",
       "      <td>0.003390</td>\n",
       "      <td>0.8690</td>\n",
       "      <td>0.612116</td>\n",
       "    </tr>\n",
       "    <tr>\n",
       "      <th>20</th>\n",
       "      <td>0.999933</td>\n",
       "      <td>0.002908</td>\n",
       "      <td>0.8689</td>\n",
       "      <td>0.626092</td>\n",
       "    </tr>\n",
       "  </tbody>\n",
       "</table>\n",
       "</div>"
      ],
      "text/plain": [
       "    accuracy      loss  val_accuracy  val_loss\n",
       "1   0.770667  0.552628        0.8583  0.388505\n",
       "2   0.902000  0.288201        0.8826  0.295252\n",
       "3   0.935133  0.196166        0.8887  0.276387\n",
       "4   0.956933  0.144582        0.8875  0.281102\n",
       "5   0.970133  0.110004        0.8840  0.296182\n",
       "6   0.979267  0.083338        0.8829  0.318492\n",
       "7   0.987933  0.062994        0.8799  0.344765\n",
       "8   0.992400  0.046843        0.8788  0.372249\n",
       "9   0.995667  0.034249        0.8760  0.401166\n",
       "10  0.997667  0.025642        0.8747  0.431279\n",
       "11  0.998933  0.018776        0.8751  0.458496\n",
       "12  0.999667  0.014032        0.8725  0.483600\n",
       "13  0.999800  0.010700        0.8696  0.509872\n",
       "14  0.999800  0.008487        0.8712  0.528112\n",
       "15  0.999867  0.006762        0.8704  0.548695\n",
       "16  0.999933  0.005600        0.8699  0.565807\n",
       "17  0.999933  0.004668        0.8707  0.581141\n",
       "18  0.999933  0.003984        0.8690  0.598684\n",
       "19  0.999933  0.003390        0.8690  0.612116\n",
       "20  0.999933  0.002908        0.8689  0.626092"
      ]
     },
     "execution_count": 17,
     "metadata": {},
     "output_type": "execute_result"
    }
   ],
   "source": [
    "history_df = pd.DataFrame(history.history)\n",
    "history_df.index += 1 # Start index from 1\n",
    "history_df"
   ]
  },
  {
   "cell_type": "code",
   "execution_count": 18,
   "id": "7c3402ea-3d54-4459-99e4-81c4222b1340",
   "metadata": {},
   "outputs": [
    {
     "data": {
      "text/plain": [
       "<Axes: title={'center': '[IMDB] Training and validation loss'}, xlabel='Epochs', ylabel='Loss'>"
      ]
     },
     "execution_count": 18,
     "metadata": {},
     "output_type": "execute_result"
    },
    {
     "data": {
      "image/png": "[encoded data removed]",
      "text/plain": [
       "<Figure size 640x480 with 1 Axes>"
      ]
     },
     "metadata": {},
     "output_type": "display_data"
    }
   ],
   "source": [
    "history_df.loc[:, [\"loss\", \"val_loss\"]].rename(\n",
    "    columns={\n",
    "        \"loss\": \"Training loss\",\n",
    "        \"val_loss\": \"Validation loss\",\n",
    "    }\n",
    ").plot(\n",
    "    grid=True,\n",
    "    style=[\"r--\", \"b-\"],\n",
    "    title = \"[IMDB] Training and validation loss\",\n",
    "    xticks = range(1, 21),\n",
    "    xlabel = \"Epochs\",\n",
    "    ylabel = \"Loss\"\n",
    ")"
   ]
  },
  {
   "cell_type": "code",
   "execution_count": 19,
   "id": "6fbf4e2c-8ff5-4d97-bb3c-ff6d4922be83",
   "metadata": {},
   "outputs": [
    {
     "data": {
      "text/plain": [
       "<Axes: title={'center': '[IMDB] Training and validation accuracy'}, xlabel='Epochs', ylabel='Accuracy'>"
      ]
     },
     "execution_count": 19,
     "metadata": {},
     "output_type": "execute_result"
    },
    {
     "data": {
      "image/png": "[encoded data removed]",
      "text/plain": [
       "<Figure size 640x480 with 1 Axes>"
      ]
     },
     "metadata": {},
     "output_type": "display_data"
    }
   ],
   "source": [
    "history_df.loc[:, [\"accuracy\", \"val_accuracy\"]].rename(\n",
    "    columns={\n",
    "        \"accuracy\": \"Training accuracy\",\n",
    "        \"val_accuracy\": \"Validation accuracy\",\n",
    "    }\n",
    ").plot(\n",
    "    grid=True,\n",
    "    style=[\"r--\", \"b-\"],\n",
    "    title = \"[IMDB] Training and validation accuracy\",\n",
    "    xticks = range(1, 21),\n",
    "    xlabel = \"Epochs\",\n",
    "    ylabel = \"Accuracy\"\n",
    ")"
   ]
  },
  {
   "cell_type": "code",
   "execution_count": 20,
   "id": "5343d09d-0e75-48dd-8210-b8a1fa818e65",
   "metadata": {},
   "outputs": [
    {
     "name": "stdout",
     "output_type": "stream",
     "text": [
      "\u001b[1m782/782\u001b[0m \u001b[32m━━━━━━━━━━━━━━━━━━━━\u001b[0m\u001b[37m\u001b[0m \u001b[1m0s\u001b[0m 535us/step - accuracy: 0.8544 - loss: 0.6910\n"
     ]
    },
    {
     "data": {
      "text/plain": [
       "[0.6808909177780151, 0.8568000197410583]"
      ]
     },
     "execution_count": 20,
     "metadata": {},
     "output_type": "execute_result"
    }
   ],
   "source": [
    "results = model.evaluate(X_test_encoded, y_test)\n",
    "results # [test loss, test accuracy]"
   ]
  },
  {
   "cell_type": "markdown",
   "id": "a1704121-7559-426f-94fe-a0407811190c",
   "metadata": {},
   "source": [
    "From the loss graph, can be seen that after the 4th epoch, the model starts to overfit the training data (training loss cotinues to go down, but validation loss starts to go up)."
   ]
  },
  {
   "cell_type": "code",
   "execution_count": 21,
   "id": "c079a53b-9ba9-445d-b2e1-d83ce312d015",
   "metadata": {},
   "outputs": [
    {
     "name": "stdout",
     "output_type": "stream",
     "text": [
      "Epoch 1/4\n",
      "\u001b[1m30/30\u001b[0m \u001b[32m━━━━━━━━━━━━━━━━━━━━\u001b[0m\u001b[37m\u001b[0m \u001b[1m1s\u001b[0m 19ms/step - accuracy: 0.6320 - loss: 0.6569 - val_accuracy: 0.8479 - val_loss: 0.4880\n",
      "Epoch 2/4\n",
      "\u001b[1m30/30\u001b[0m \u001b[32m━━━━━━━━━━━━━━━━━━━━\u001b[0m\u001b[37m\u001b[0m \u001b[1m0s\u001b[0m 5ms/step - accuracy: 0.8861 - loss: 0.4122 - val_accuracy: 0.8847 - val_loss: 0.3335\n",
      "Epoch 3/4\n",
      "\u001b[1m30/30\u001b[0m \u001b[32m━━━━━━━━━━━━━━━━━━━━\u001b[0m\u001b[37m\u001b[0m \u001b[1m0s\u001b[0m 5ms/step - accuracy: 0.9195 - loss: 0.2636 - val_accuracy: 0.8892 - val_loss: 0.2881\n",
      "Epoch 4/4\n",
      "\u001b[1m30/30\u001b[0m \u001b[32m━━━━━━━━━━━━━━━━━━━━\u001b[0m\u001b[37m\u001b[0m \u001b[1m0s\u001b[0m 6ms/step - accuracy: 0.9416 - loss: 0.1916 - val_accuracy: 0.8909 - val_loss: 0.2747\n"
     ]
    }
   ],
   "source": [
    "# Retrain for 4 epochs only\n",
    "model_4_epochs = keras.Sequential(\n",
    "    [\n",
    "        keras.layers.Dense(16, activation=\"relu\"),\n",
    "        keras.layers.Dense(16, activation=\"relu\"),\n",
    "        keras.layers.Dense(1, activation=\"sigmoid\"),\n",
    "    ]\n",
    ")\n",
    "\n",
    "model_4_epochs.compile(optimizer=\"adam\", loss=\"binary_crossentropy\", metrics=[\"accuracy\"])\n",
    "\n",
    "history_4_epochs = model_4_epochs.fit(\n",
    "    X_train,\n",
    "    y_train,\n",
    "    epochs=4,\n",
    "    batch_size=512,\n",
    "    validation_data=(X_valid, y_valid),\n",
    ")"
   ]
  },
  {
   "cell_type": "code",
   "execution_count": 22,
   "id": "1992b985-2d01-4ea1-80fd-d6df40dbc56e",
   "metadata": {},
   "outputs": [
    {
     "name": "stdout",
     "output_type": "stream",
     "text": [
      "\u001b[1m782/782\u001b[0m \u001b[32m━━━━━━━━━━━━━━━━━━━━\u001b[0m\u001b[37m\u001b[0m \u001b[1m0s\u001b[0m 340us/step - accuracy: 0.8810 - loss: 0.2941\n"
     ]
    },
    {
     "data": {
      "text/plain": [
       "[0.2934497594833374, 0.8828399777412415]"
      ]
     },
     "execution_count": 22,
     "metadata": {},
     "output_type": "execute_result"
    }
   ],
   "source": [
    "results = model_4_epochs.evaluate(X_test_encoded, y_test)\n",
    "results # [test loss, test accuracy]"
   ]
  },
  {
   "cell_type": "markdown",
   "id": "fd9f2ab8-98f8-4fbe-8455-f0dabd7020c5",
   "metadata": {},
   "source": [
    "Stopping after 4 epochs results in a higher test accuracy"
   ]
  }
 ],
 "metadata": {
  "kernelspec": {
   "display_name": "Python 3 (ipykernel)",
   "language": "python",
   "name": "python3"
  },
  "language_info": {
   "codemirror_mode": {
    "name": "ipython",
    "version": 3
   },
   "file_extension": ".py",
   "mimetype": "text/x-python",
   "name": "python",
   "nbconvert_exporter": "python",
   "pygments_lexer": "ipython3",
   "version": "3.12.11"
  }
 },
 "nbformat": 4,
 "nbformat_minor": 5
}
