{
 "cells": [
  {
   "cell_type": "markdown",
   "id": "a28b2119",
   "metadata": {},
   "source": [
    "# California Housing Price Dataset (pg. 160)"
   ]
  },
  {
   "cell_type": "code",
   "execution_count": 1,
   "id": "6f63bc1e",
   "metadata": {},
   "outputs": [],
   "source": [
    "import keras\n",
    "import numpy as np\n",
    "import pandas as pd"
   ]
  },
  {
   "cell_type": "code",
   "execution_count": 2,
   "id": "6071bb69-78ec-472d-ac23-d14d5ecc6125",
   "metadata": {},
   "outputs": [],
   "source": [
    "(X_train_full, y_train_full), (X_test, y_test) = (\n",
    "    keras.datasets.california_housing.load_data(version=\"small\")\n",
    ")"
   ]
  },
  {
   "cell_type": "markdown",
   "id": "d5719436-c73c-4168-b246-4e1c3774f9f7",
   "metadata": {},
   "source": [
    "480 rows with 8 features each"
   ]
  },
  {
   "cell_type": "code",
   "execution_count": 3,
   "id": "b5dbb3ec",
   "metadata": {},
   "outputs": [
    {
     "data": {
      "text/plain": [
       "(480, 8)"
      ]
     },
     "execution_count": 3,
     "metadata": {},
     "output_type": "execute_result"
    }
   ],
   "source": [
    "X_train_full.shape"
   ]
  },
  {
   "cell_type": "markdown",
   "id": "9b31c384-4b5b-42b7-8177-650ef8125a8a",
   "metadata": {},
   "source": [
    "Do feature-wise normalization, by subtraction the mean of the feature and divide by the standard deviation. This resuls in features centered around 0 and as a standard deviation of 1."
   ]
  },
  {
   "cell_type": "code",
   "execution_count": 4,
   "id": "509f6521-f72e-4b1f-a298-84b16e29616c",
   "metadata": {},
   "outputs": [
    {
     "data": {
      "text/plain": [
       "array([-122.23098  ,   37.807056 ,   44.429165 , 1976.0708   ,\n",
       "        421.8125   ,  994.6646   ,  397.75     ,    3.5265813],\n",
       "      dtype=float32)"
      ]
     },
     "execution_count": 4,
     "metadata": {},
     "output_type": "execute_result"
    }
   ],
   "source": [
    "# Axis = 0 will calcuate the mean across each column\n",
    "mean = X_train_full.mean(axis=0)\n",
    "mean"
   ]
  },
  {
   "cell_type": "code",
   "execution_count": 5,
   "id": "6b5d609b-826f-466f-9984-76b388c3acaa",
   "metadata": {},
   "outputs": [
    {
     "data": {
      "text/plain": [
       "array([5.1194776e-02, 4.8341740e-02, 9.6651878e+00, 1.4763470e+03,\n",
       "       3.1940192e+02, 6.6303387e+02, 2.9891754e+02, 1.9816692e+00],\n",
       "      dtype=float32)"
      ]
     },
     "execution_count": 5,
     "metadata": {},
     "output_type": "execute_result"
    }
   ],
   "source": [
    "std = X_train_full.std(axis=0)\n",
    "std"
   ]
  },
  {
   "cell_type": "code",
   "execution_count": 6,
   "id": "f6b43129-41d2-4dbd-a4fe-b259112ccca7",
   "metadata": {},
   "outputs": [],
   "source": [
    "X_train_full_normalized = (X_train_full - mean) / std"
   ]
  },
  {
   "cell_type": "markdown",
   "id": "44c907e5-5b12-4a36-aeaa-f01b4a280419",
   "metadata": {},
   "source": [
    "First Feature Normalized = First Feature - mean(First Feature) / std(First Feature)\n",
    "\n",
    "Example:\n",
    "\n",
    "(-1.2224e+02 - (-122.23098)) / 5.1194776e-02\n",
    "\n",
    "\\= 0.00901999999 / 5.1194776e-02\n",
    "\n",
    "$\\approx$ -0.17618985187"
   ]
  },
  {
   "cell_type": "code",
   "execution_count": 7,
   "id": "60bef517-c97b-4e93-9206-7083b86dfbbf",
   "metadata": {},
   "outputs": [
    {
     "data": {
      "text/plain": [
       "array([-1.2224e+02,  3.7730e+01,  2.1000e+01,  7.0310e+03,  1.2490e+03,\n",
       "        2.9300e+03,  1.2350e+03,  4.5213e+00], dtype=float32)"
      ]
     },
     "execution_count": 7,
     "metadata": {},
     "output_type": "execute_result"
    }
   ],
   "source": [
    "X_train_full[0]"
   ]
  },
  {
   "cell_type": "code",
   "execution_count": 8,
   "id": "4f05d83a-f9c4-4592-b4d5-6a8459dc9701",
   "metadata": {},
   "outputs": [
    {
     "data": {
      "text/plain": [
       "array([-0.1761497, -1.5940031, -2.4240775,  3.4239438,  2.5898013,\n",
       "        2.9189088,  2.8009396,  0.5019599], dtype=float32)"
      ]
     },
     "execution_count": 8,
     "metadata": {},
     "output_type": "execute_result"
    }
   ],
   "source": [
    "X_train_full_normalized[0]"
   ]
  },
  {
   "cell_type": "markdown",
   "id": "f58f539b-5e85-48dc-9638-247f38c27dac",
   "metadata": {},
   "source": [
    "Should normalize the test data using the mean and standard deviation of the training set. Should never use in the workflow any quantity computed on the test data (leakage)."
   ]
  },
  {
   "cell_type": "code",
   "execution_count": 9,
   "id": "bc0bb6f3-5f1b-439a-b959-2f0d6732ceae",
   "metadata": {},
   "outputs": [],
   "source": [
    "X_test_normalized = (X_test - mean) / std"
   ]
  },
  {
   "cell_type": "markdown",
   "id": "c19ee965-2e25-48d1-9692-c80042f68cb2",
   "metadata": {},
   "source": [
    "Should also scale the targets. Model weights are initialized to be very small values, a large output will require large weights, which will take a very long time to train with a low learning rate."
   ]
  },
  {
   "cell_type": "code",
   "execution_count": 10,
   "id": "e3602f55-e81c-4bfc-93e5-91a03f01b36c",
   "metadata": {},
   "outputs": [],
   "source": [
    "y_train_full_scaled = y_train_full / 100000\n",
    "y_test_scaled = y_test / 100000"
   ]
  },
  {
   "cell_type": "code",
   "execution_count": 11,
   "id": "c74ef5f1-33bd-4ebd-8598-b883f82eb446",
   "metadata": {},
   "outputs": [],
   "source": [
    "def get_model():\n",
    "    model = keras.Sequential(\n",
    "        [\n",
    "            keras.layers.Dense(64, activation=\"relu\"),\n",
    "            keras.layers.Dense(64, activation=\"relu\"),\n",
    "            # Single unit with no activation\n",
    "            # Typical setup for scalar regression\n",
    "            # (trying to predict a single continuous value)\n",
    "            keras.layers.Dense(1),\n",
    "        ]\n",
    "    )\n",
    "\n",
    "    model.compile(\n",
    "        optimizer=\"adam\", loss=\"mean_squared_error\", metrics=[\"mean_absolute_error\"]\n",
    "    )\n",
    "\n",
    "    return model"
   ]
  },
  {
   "cell_type": "markdown",
   "id": "5c8b7e1c-fc53-48c6-8919-6b21f573b75e",
   "metadata": {},
   "source": [
    "## K-Fold Validation"
   ]
  },
  {
   "cell_type": "markdown",
   "id": "0da0f280-7efb-4f79-8d76-198eb280572a",
   "metadata": {},
   "source": [
    "There are a limited number of data points (480), so scores from evaluating from a validation set would change a lot depending on which data points are selected in the validation set. This would prevent us from reliably evaluating the model.\n",
    "\n",
    "Best practice is K-fold cross-validation, which consists of splitting the available data into K partitions (typically K = 4 ot 5), instantiating K identical models, then training each on K - 1 partitions while evaluating on the remaining partition.\n",
    "\n",
    "The validation score is the average of the K validation scores."
   ]
  },
  {
   "cell_type": "code",
   "execution_count": 12,
   "id": "907945fc-d07a-4c62-a508-2ee1f955acdc",
   "metadata": {},
   "outputs": [
    {
     "name": "stdout",
     "output_type": "stream",
     "text": [
      "Processing fold #1\n",
      "Processing fold #2\n",
      "Processing fold #3\n",
      "Processing fold #4\n"
     ]
    }
   ],
   "source": [
    "k = 4\n",
    "\n",
    "# Since no need to split validation set, rename vars\n",
    "X_train_normalized = X_train_full_normalized\n",
    "y_train_scaled = y_train_full_scaled\n",
    "\n",
    "# Each fold will have 480 // 4 = 120 samples\n",
    "num_val_samples = len(X_train_full) // k\n",
    "num_epochs = 50\n",
    "\n",
    "all_scores = []\n",
    "\n",
    "# Loop through each fold\n",
    "for i in range(k):\n",
    "    print(f\"Processing fold #{i + 1}\")\n",
    "\n",
    "    # Get the k-th fold for validation\n",
    "    fold_x_val = X_train_normalized[i * num_val_samples : (i + 1) * num_val_samples]\n",
    "    fold_y_val = y_train_scaled[i * num_val_samples : (i + 1) * num_val_samples]\n",
    "\n",
    "    # For training, get the other folds\n",
    "    fold_x_train = np.concatenate(\n",
    "        [\n",
    "            # Get up to the k-th fold\n",
    "            X_train_normalized[: i * num_val_samples],\n",
    "            # Get everything from the (k + 1)-th fold to the end\n",
    "            X_train_normalized[(i + 1) * num_val_samples :],\n",
    "        ],\n",
    "        axis=0,\n",
    "    )\n",
    "\n",
    "    fold_y_train = np.concatenate(\n",
    "        [\n",
    "            # Get up to the k-th fold\n",
    "            y_train_scaled[: i * num_val_samples],\n",
    "            # Get everything from the (k + 1)-th fold to the end\n",
    "            y_train_scaled[(i + 1) * num_val_samples :],\n",
    "        ],\n",
    "        axis=0,\n",
    "    )\n",
    "\n",
    "    model = get_model()\n",
    "    model.fit(fold_x_train, fold_y_train, epochs=num_epochs, batch_size=16, verbose=0)\n",
    "\n",
    "    scores = model.evaluate(fold_x_val, fold_y_val, verbose=0)\n",
    "    val_loss, val_mae = scores\n",
    "\n",
    "    all_scores.append(val_mae)"
   ]
  },
  {
   "cell_type": "code",
   "execution_count": 13,
   "id": "2838e28e-c7aa-4183-a08f-69e753d85bbe",
   "metadata": {},
   "outputs": [
    {
     "data": {
      "text/plain": [
       "[0.30062949657440186,\n",
       " 0.31154587864875793,\n",
       " 0.2339421808719635,\n",
       " 0.30742618441581726]"
      ]
     },
     "execution_count": 13,
     "metadata": {},
     "output_type": "execute_result"
    }
   ],
   "source": [
    "all_scores"
   ]
  },
  {
   "cell_type": "code",
   "execution_count": 14,
   "id": "ebc6ec8c-3d8b-45e0-bebc-211893fdfb9f",
   "metadata": {},
   "outputs": [
    {
     "data": {
      "text/plain": [
       "[0.301, 0.312, 0.234, 0.307]"
      ]
     },
     "execution_count": 14,
     "metadata": {},
     "output_type": "execute_result"
    }
   ],
   "source": [
    "[round(value, 3) for value in all_scores]"
   ]
  },
  {
   "cell_type": "code",
   "execution_count": 15,
   "id": "629d7c5d-6f21-4c13-ba04-b7e23a778646",
   "metadata": {},
   "outputs": [
    {
     "data": {
      "text/plain": [
       "np.float64(0.288)"
      ]
     },
     "execution_count": 15,
     "metadata": {},
     "output_type": "execute_result"
    }
   ],
   "source": [
    "round(np.mean(all_scores), 3)"
   ]
  },
  {
   "cell_type": "markdown",
   "id": "7c62e45a-65db-417a-b532-131b6c15b0a6",
   "metadata": {},
   "source": [
    "Try training with 200 epochs"
   ]
  },
  {
   "cell_type": "code",
   "execution_count": 16,
   "id": "5ff87842-3c7a-4d81-adb7-bc3fa768a10c",
   "metadata": {},
   "outputs": [
    {
     "name": "stdout",
     "output_type": "stream",
     "text": [
      "Processing fold #1\n",
      "Processing fold #2\n",
      "Processing fold #3\n",
      "Processing fold #4\n"
     ]
    }
   ],
   "source": [
    "k = 4\n",
    "\n",
    "# Each fold will have 480 // 4 = 120 samples\n",
    "num_val_samples = len(X_train_full) // k\n",
    "num_epochs = 200\n",
    "\n",
    "all_mae_histories = []\n",
    "\n",
    "for i in range(k):\n",
    "    print(f\"Processing fold #{i + 1}\")\n",
    "\n",
    "    # Get the k-th fold for validation\n",
    "    fold_x_val = X_train_normalized[i * num_val_samples : (i + 1) * num_val_samples]\n",
    "    fold_y_val = y_train_scaled[i * num_val_samples : (i + 1) * num_val_samples]\n",
    "\n",
    "    # For training, get the other folds\n",
    "    fold_x_train = np.concatenate(\n",
    "        [\n",
    "            # Get up to the k-th fold\n",
    "            X_train_normalized[: i * num_val_samples],\n",
    "            # Get everything from the (k + 1)-th fold to the end\n",
    "            X_train_normalized[(i + 1) * num_val_samples :],\n",
    "        ],\n",
    "        axis=0,\n",
    "    )\n",
    "\n",
    "    fold_y_train = np.concatenate(\n",
    "        [\n",
    "            # Get up to the k-th fold\n",
    "            y_train_scaled[: i * num_val_samples],\n",
    "            # Get everything from the (k + 1)-th fold to the end\n",
    "            y_train_scaled[(i + 1) * num_val_samples :],\n",
    "        ],\n",
    "        axis=0,\n",
    "    )\n",
    "\n",
    "    model = get_model()\n",
    "    history = model.fit(\n",
    "        fold_x_train,\n",
    "        fold_y_train,\n",
    "        validation_data=(fold_x_val, fold_y_val),\n",
    "        epochs=num_epochs,\n",
    "        batch_size=16,\n",
    "        verbose=0,\n",
    "    )\n",
    "\n",
    "    mae_history = history.history[\"val_mean_absolute_error\"]\n",
    "    all_mae_histories.append(mae_history)"
   ]
  },
  {
   "cell_type": "markdown",
   "id": "ad4097aa-d903-4ad9-af81-6aa3d627f3f9",
   "metadata": {},
   "source": [
    "Each list in `all_mae_histories` has 200 MAE values (for each epoch)"
   ]
  },
  {
   "cell_type": "code",
   "execution_count": 17,
   "id": "2d2f9910-c93a-44b5-9d0e-45b7c32b5ff0",
   "metadata": {},
   "outputs": [
    {
     "data": {
      "text/plain": [
       "200"
      ]
     },
     "execution_count": 17,
     "metadata": {},
     "output_type": "execute_result"
    }
   ],
   "source": [
    "len(all_mae_histories[0])"
   ]
  },
  {
   "cell_type": "code",
   "execution_count": 18,
   "id": "fbeb1a1c-21b2-4e64-bb07-de534131b180",
   "metadata": {},
   "outputs": [],
   "source": [
    "# Get the average MAE for each epoch\n",
    "average_mae_history = [\n",
    "    np.mean([x[i] for x in all_mae_histories]) for i in range(num_epochs)\n",
    "]"
   ]
  },
  {
   "cell_type": "code",
   "execution_count": 19,
   "id": "c8b2a1aa-ee79-4969-be56-53c0ed3f924e",
   "metadata": {},
   "outputs": [],
   "source": [
    "df = pd.DataFrame({\"Epochs\": range(1, 201), \"Validation MAE\": average_mae_history})"
   ]
  },
  {
   "cell_type": "code",
   "execution_count": 20,
   "id": "aa34645c-3439-4d38-b130-3e4b47004cfd",
   "metadata": {},
   "outputs": [
    {
     "data": {
      "text/plain": [
       "<Axes: xlabel='Epochs', ylabel='Validation MAE'>"
      ]
     },
     "execution_count": 20,
     "metadata": {},
     "output_type": "execute_result"
    },
    {
     "data": {
      "image/png": "[encoded data removed]",
      "text/plain": [
       "<Figure size 640x480 with 1 Axes>"
      ]
     },
     "metadata": {},
     "output_type": "display_data"
    }
   ],
   "source": [
    "df.plot(x=\"Epochs\", y=\"Validation MAE\", ylabel=\"Validation MAE\", legend=False)"
   ]
  },
  {
   "cell_type": "markdown",
   "id": "c8976014-490c-43a2-9a6f-bceece578388",
   "metadata": {},
   "source": [
    "Omit the first 10 validation MAEs because it's causing the scaling to be weird"
   ]
  },
  {
   "cell_type": "code",
   "execution_count": 21,
   "id": "26cc403a-b767-45db-bc99-d4da4cc24628",
   "metadata": {},
   "outputs": [
    {
     "data": {
      "text/plain": [
       "<Axes: xlabel='Epochs', ylabel='Validation MAE'>"
      ]
     },
     "execution_count": 21,
     "metadata": {},
     "output_type": "execute_result"
    },
    {
     "data": {
      "image/png": "[encoded data removed]",
      "text/plain": [
       "<Figure size 640x480 with 1 Axes>"
      ]
     },
     "metadata": {},
     "output_type": "display_data"
    }
   ],
   "source": [
    "df.loc[10:, :].plot(\n",
    "    x=\"Epochs\", y=\"Validation MAE\", ylabel=\"Validation MAE\", legend=False\n",
    ")"
   ]
  },
  {
   "cell_type": "markdown",
   "id": "4f975ab0-30dc-4304-91aa-52f20bbfac8d",
   "metadata": {},
   "source": [
    "MAE stops improving after around 120-140 epochs. Can fit a final model with 130 epochs."
   ]
  },
  {
   "cell_type": "code",
   "execution_count": 23,
   "id": "1c6ce95d-a332-45e6-8250-7788b77557b5",
   "metadata": {},
   "outputs": [
    {
     "data": {
      "text/plain": [
       "<keras.src.callbacks.history.History at 0x3098bacf0>"
      ]
     },
     "execution_count": 23,
     "metadata": {},
     "output_type": "execute_result"
    }
   ],
   "source": [
    "model = get_model()\n",
    "model.fit(\n",
    "    X_train_full_normalized,\n",
    "    y_train_full_scaled,\n",
    "    epochs=130,\n",
    "    batch_size=16,\n",
    "    verbose=0,\n",
    ")"
   ]
  },
  {
   "cell_type": "code",
   "execution_count": 24,
   "id": "720a260d-e802-4cbe-9a92-4f9acf30aaaa",
   "metadata": {},
   "outputs": [
    {
     "name": "stdout",
     "output_type": "stream",
     "text": [
      "\u001b[1m4/4\u001b[0m \u001b[32m━━━━━━━━━━━━━━━━━━━━\u001b[0m\u001b[37m\u001b[0m \u001b[1m0s\u001b[0m 3ms/step - loss: 0.3067 - mean_absolute_error: 0.3227 \n"
     ]
    }
   ],
   "source": [
    "test_mean_squared_error, test_mean_absolute_error = model.evaluate(\n",
    "    X_test_normalized, y_test_scaled\n",
    ")"
   ]
  },
  {
   "cell_type": "code",
   "execution_count": 25,
   "id": "431b27cc-5483-4b79-bbe3-d85566813b6b",
   "metadata": {},
   "outputs": [
    {
     "data": {
      "text/plain": [
       "0.28271105885505676"
      ]
     },
     "execution_count": 25,
     "metadata": {},
     "output_type": "execute_result"
    }
   ],
   "source": [
    "test_mean_squared_error"
   ]
  },
  {
   "cell_type": "code",
   "execution_count": 26,
   "id": "c6255967-2777-42b8-80af-d51bea6ce271",
   "metadata": {},
   "outputs": [
    {
     "data": {
      "text/plain": [
       "0.3033059239387512"
      ]
     },
     "execution_count": 26,
     "metadata": {},
     "output_type": "execute_result"
    }
   ],
   "source": [
    "test_mean_absolute_error"
   ]
  },
  {
   "cell_type": "markdown",
   "id": "d9f70d22-bcff-4a2a-be08-22a9396670d3",
   "metadata": {},
   "source": [
    "Still off by about $30,000 on average."
   ]
  }
 ],
 "metadata": {
  "kernelspec": {
   "display_name": "Python 3 (ipykernel)",
   "language": "python",
   "name": "python3"
  },
  "language_info": {
   "codemirror_mode": {
    "name": "ipython",
    "version": 3
   },
   "file_extension": ".py",
   "mimetype": "text/x-python",
   "name": "python",
   "nbconvert_exporter": "python",
   "pygments_lexer": "ipython3",
   "version": "3.12.8"
  }
 },
 "nbformat": 4,
 "nbformat_minor": 5
}
